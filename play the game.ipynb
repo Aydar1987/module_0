{
 "cells": [
  {
   "cell_type": "code",
   "execution_count": 39,
   "metadata": {},
   "outputs": [
    {
     "name": "stdout",
     "output_type": "stream",
     "text": [
      "Ваш алгоритм угадывает число в среднем за 5 попыток\n"
     ]
    },
    {
     "data": {
      "text/plain": [
       "5"
      ]
     },
     "execution_count": 39,
     "metadata": {},
     "output_type": "execute_result"
    }
   ],
   "source": [
    "import numpy as np\n",
    "\n",
    "\n",
    "# Function for game\n",
    "def game_core_v1(number):\n",
    "    count = 0 \n",
    "    number = np.random.randint(1,101)\n",
    "    # First attempt\n",
    "    predict = 50\n",
    "    # Basic step for change\n",
    "    step_0 = predict\n",
    "    \n",
    "    while True:\n",
    "        # Step for change\n",
    "        step = step_0 // 2**count\n",
    "        # Attempt counter\n",
    "        count += 1 \n",
    "        \n",
    "        if step > 1 :                \n",
    "            if number == predict:\n",
    "                # End if success\n",
    "                break\n",
    "            # Next attempt\n",
    "            elif number > predict:\n",
    "                predict += step//2\n",
    "            elif number < predict: \n",
    "                predict -= step//2\n",
    "       \n",
    "        else:\n",
    "            if number == predict:\n",
    "                # End if success\n",
    "                break\n",
    "            # Next attempt\n",
    "            elif number > predict:\n",
    "                predict += 1\n",
    "            elif number < predict: \n",
    "                predict -= 1\n",
    "                          \n",
    "    return(count)\n",
    "\n",
    "\n",
    "# Function for 1000 games\n",
    "def score_game(game_core):\n",
    "    count_ls = []\n",
    "    # Fixed RANDOM SEED\n",
    "    np.random.seed(1)  \n",
    "    random_array = np.random.randint(1,101, size=(1000))\n",
    "    \n",
    "    for number in random_array:\n",
    "        # Array of play attempt\n",
    "        count_ls.append(game_core(number))\n",
    "    score = int(np.mean(count_ls))\n",
    "    print(f\"Ваш алгоритм угадывает число в среднем за {score} попыток\")\n",
    "    return(score)\n",
    "\n",
    "# Result\n",
    "score_game(game_core_v1)"
   ]
  },
  {
   "cell_type": "code",
   "execution_count": null,
   "metadata": {},
   "outputs": [],
   "source": []
  }
 ],
 "metadata": {
  "kernelspec": {
   "display_name": "Python 3",
   "language": "python",
   "name": "python3"
  },
  "language_info": {
   "codemirror_mode": {
    "name": "ipython",
    "version": 3
   },
   "file_extension": ".py",
   "mimetype": "text/x-python",
   "name": "python",
   "nbconvert_exporter": "python",
   "pygments_lexer": "ipython3",
   "version": "3.8.3"
  }
 },
 "nbformat": 4,
 "nbformat_minor": 4
}
